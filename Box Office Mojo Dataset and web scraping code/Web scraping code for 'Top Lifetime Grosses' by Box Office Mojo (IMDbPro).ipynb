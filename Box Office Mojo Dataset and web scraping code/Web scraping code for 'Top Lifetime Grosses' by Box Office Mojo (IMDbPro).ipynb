{
 "cells": [
  {
   "cell_type": "markdown",
   "id": "16920760",
   "metadata": {},
   "source": [
    "### Web scraping code for 'Top Lifetime Grosses' by Box Office Mojo (IMDbPro)"
   ]
  },
  {
   "cell_type": "code",
   "execution_count": 122,
   "id": "0b323f2a",
   "metadata": {},
   "outputs": [],
   "source": [
    "# The website URL_link: https://www.boxofficemojo.com/chart/top_lifetime_gross/?area=XWW\n",
    "from selenium import webdriver\n",
    "from selenium.webdriver.chrome.service import Service \n",
    "from selenium.webdriver.common.by import By\n",
    "from selenium.webdriver.common.keys import Keys\n",
    "from selenium.common.exceptions import TimeoutException\n",
    "from selenium.common.exceptions import ElementClickInterceptedException\n",
    "from selenium.common.exceptions import NoSuchElementException\n",
    "from selenium.webdriver.support.ui import WebDriverWait\n",
    "from selenium.webdriver.support import expected_conditions as EC\n",
    "import requests \n",
    "from bs4 import BeautifulSoup\n",
    "from datetime import datetime\n",
    "from time import sleep\n",
    "import pandas as pd\n",
    "from tqdm import tqdm, trange"
   ]
  },
  {
   "cell_type": "code",
   "execution_count": 123,
   "id": "428aff49",
   "metadata": {},
   "outputs": [
    {
     "name": "stdout",
     "output_type": "stream",
     "text": [
      "TimeoutException! All URL-links were successfully scraped for the following time: 0:00:51.683316\n"
     ]
    }
   ],
   "source": [
    "s = Service(\"C:/Users/Владислав/Desktop/ChromeDriver/chromedriver.exe\")\n",
    "chrome_options = webdriver.ChromeOptions()\n",
    "chrome_options.add_argument(\"--disable-notifications\")\n",
    "# chrome_options.add_argument(\"--headless\") # If necessary, we can make the headless browser\n",
    "browser = webdriver.Chrome(service = s, options=chrome_options)\n",
    "browser.maximize_window()\n",
    "browser.get(\"https://www.boxofficemojo.com/chart/top_lifetime_gross/?area=XWW\")\n",
    "browser.implicitly_wait(10)\n",
    "sleep(5)\n",
    "\n",
    "start = datetime.now() # Let's measure the time of accumulating all URL_links of 1000 films\n",
    "\n",
    "URL_links = [] # The list container for URL_links\n",
    "page = browser.page_source\n",
    "soup = BeautifulSoup(page)\n",
    "for link in soup.find_all(\"a\", class_ = \"a-link-normal\"):\n",
    "    if link.get(\"href\").startswith(\"/title/\"):\n",
    "    # We extract only the part of the URL_link. To obtain the whole URL_link, we should utilize the concatenation \n",
    "    # operation:\n",
    "        whole_link = \"https://www.boxofficemojo.com\" + link.get(\"href\")\n",
    "        URL_links.append(whole_link) # All URL_links are appended to the rear of the list container\n",
    "# With the assistance of Selenium we will click the next_page button, while such an option is valid:\n",
    "while True:\n",
    "    try:\n",
    "        next_page = browser.find_element(By.CSS_SELECTOR, \"#a-page > main > div > div > div.a-text-center.mojo-pagination > ul > li.a-last > a\")\n",
    "        next_page.click()\n",
    "        sleep(3)\n",
    "        \n",
    "        page = browser.page_source\n",
    "        soup = BeautifulSoup(page)\n",
    "        for link in soup.find_all(\"a\", class_ = \"a-link-normal\"):\n",
    "            if link.get(\"href\").startswith(\"/title/\"):\n",
    "                whole_link = \"https://www.boxofficemojo.com\" + link.get(\"href\")\n",
    "                URL_links.append(whole_link)\n",
    "        \n",
    "        WebDriverWait(browser, 30).until(EC.element_to_be_clickable((By.CSS_SELECTOR, \"#a-page > main > div > div > div.a-text-center.mojo-pagination > ul > li.a-last > a\")))\n",
    "    # All the relevant exceptions are taken into consideration:    \n",
    "    except TimeoutException:\n",
    "        print(f\"TimeoutException! All URL-links were successfully scraped for the following time: {datetime.now() - start}\")\n",
    "        break\n",
    "    except NoSuchElementException:\n",
    "        print(f\"NoSuchElement! All URL-links were successfully scraped for the following time: {datetime.now() - start}\")\n",
    "        break \n",
    "    except ElementClickInterceptedException:\n",
    "        print(f\"ElementClickIntercepted! All URL-links were successfully scraped for the following time: {datetime.now() - start}\")\n",
    "        break\n",
    "    # When an exception is raised - the 'while loop' is broken, and it means that all URL-links are \n",
    "    # successfully scraped"
   ]
  },
  {
   "cell_type": "code",
   "execution_count": 140,
   "id": "37b0bee3",
   "metadata": {},
   "outputs": [
    {
     "name": "stdout",
     "output_type": "stream",
     "text": [
      "1000\n"
     ]
    },
    {
     "data": {
      "text/plain": [
       "['https://www.boxofficemojo.com/title/tt0499549/?ref_=bo_cso_table_1',\n",
       " 'https://www.boxofficemojo.com/title/tt4154796/?ref_=bo_cso_table_2',\n",
       " 'https://www.boxofficemojo.com/title/tt0120338/?ref_=bo_cso_table_3',\n",
       " 'https://www.boxofficemojo.com/title/tt2488496/?ref_=bo_cso_table_4',\n",
       " 'https://www.boxofficemojo.com/title/tt4154756/?ref_=bo_cso_table_5',\n",
       " 'https://www.boxofficemojo.com/title/tt10872600/?ref_=bo_cso_table_6',\n",
       " 'https://www.boxofficemojo.com/title/tt0369610/?ref_=bo_cso_table_7',\n",
       " 'https://www.boxofficemojo.com/title/tt6105098/?ref_=bo_cso_table_8',\n",
       " 'https://www.boxofficemojo.com/title/tt0848228/?ref_=bo_cso_table_9',\n",
       " 'https://www.boxofficemojo.com/title/tt2820852/?ref_=bo_cso_table_10',\n",
       " 'https://www.boxofficemojo.com/title/tt4520988/?ref_=bo_cso_table_11',\n",
       " 'https://www.boxofficemojo.com/title/tt2395427/?ref_=bo_cso_table_12',\n",
       " 'https://www.boxofficemojo.com/title/tt1825683/?ref_=bo_cso_table_13',\n",
       " 'https://www.boxofficemojo.com/title/tt1201607/?ref_=bo_cso_table_14',\n",
       " 'https://www.boxofficemojo.com/title/tt2527336/?ref_=bo_cso_table_15',\n",
       " 'https://www.boxofficemojo.com/title/tt4881806/?ref_=bo_cso_table_16',\n",
       " 'https://www.boxofficemojo.com/title/tt2294629/?ref_=bo_cso_table_17',\n",
       " 'https://www.boxofficemojo.com/title/tt2771200/?ref_=bo_cso_table_18',\n",
       " 'https://www.boxofficemojo.com/title/tt3606756/?ref_=bo_cso_table_19',\n",
       " 'https://www.boxofficemojo.com/title/tt4630562/?ref_=bo_cso_table_20']"
      ]
     },
     "execution_count": 140,
     "metadata": {},
     "output_type": "execute_result"
    }
   ],
   "source": [
    "print(len(URL_links)) # All URL_links of films were successfully scraped\n",
    "# Let's return the first 20 URL_links of films\n",
    "URL_links[:20] # The slice of the list container with 20 URL_links"
   ]
  },
  {
   "cell_type": "code",
   "execution_count": 181,
   "id": "a09651e9",
   "metadata": {},
   "outputs": [
    {
     "name": "stderr",
     "output_type": "stream",
     "text": [
      "100%|██████████████████████████████████████████████████████████████████████████████| 1000/1000 [26:10<00:00,  1.57s/it]\n"
     ]
    }
   ],
   "source": [
    "# The following operation is to loop over the scraped URL_links of films and extract all the relevant information, \n",
    "# pertaining to the below-mentioned categories:\n",
    "film_titles = [] # The list container for film titles \n",
    "film_years = [] # The list container for production years of films\n",
    "description = [] # The list container, which stores the film plot/description\n",
    "domestic_box_office = [] # The list, which stores the box office within the country of origin\n",
    "international_box_office = [] # The list, which stores the box office abroad\n",
    "worldwide_box_office = [] # The list, which encompasses the box office all around the world (the total box office)\n",
    "\n",
    "# Extraction of the relevant category information is carried out through BeautifulSoup and requests library\n",
    "for link in tqdm(URL_links):\n",
    "    url = link\n",
    "    page = requests.get(url)\n",
    "    soup = BeautifulSoup(page.content, \"html.parser\")\n",
    "    # Information, regarding the film production year:\n",
    "    year = soup.find_all(\"span\", class_ = \"a-size-large a-color-secondary\")[0].get_text().strip()\n",
    "    # Information, regarding the film title:\n",
    "    title = soup.h1.get_text().strip().replace(year, \"\").strip()\n",
    "    # Information, concerning the film plot description:\n",
    "    plot = soup.find_all(\"span\", \"a-size-medium\")[0].get_text().strip()\n",
    "    # Box office within the country of film origin:\n",
    "    dom_gross = soup.find_all(\"span\", class_ = \"money\")[0].get_text().strip().lstrip(\"$\").replace(\",\", \" \")\n",
    "    # International box office (beyond the country of film origin):\n",
    "    int_gross = soup.find_all(\"span\", class_ = \"money\")[1].get_text().strip().lstrip(\"$\").replace(\",\", \" \")\n",
    "    # Global box office - all around the world (international + domestic box office):\n",
    "    world_gross = soup.find_all(\"span\", class_ = \"money\")[2].get_text().strip().lstrip(\"$\").replace(\",\", \" \")\n",
    "\n",
    "    # All the category information is appended to the relevant list containers\n",
    "    film_titles.append(title) # Film titles\n",
    "    film_years.append(year.lstrip(\"(\").rstrip(\")\")) # Film production years\n",
    "    description.append(plot) # Plot/description of films\n",
    "    # Besides, the three-level film box office:\n",
    "    domestic_box_office.append(dom_gross)\n",
    "    international_box_office.append(int_gross)\n",
    "    worldwide_box_office.append(world_gross)"
   ]
  },
  {
   "cell_type": "code",
   "execution_count": 184,
   "id": "009085d4",
   "metadata": {},
   "outputs": [
    {
     "data": {
      "text/plain": [
       "[('Avatar',\n",
       "  '2009',\n",
       "  'A paraplegic Marine dispatched to the moon Pandora on a unique mission becomes torn between following his orders and protecting the world he feels is his home.',\n",
       "  '760 507 625',\n",
       "  '2 086 889 714',\n",
       "  '2 847 397 339'),\n",
       " ('Avengers: Endgame',\n",
       "  '2019',\n",
       "  \"After the devastating events of Avengers: Infinity War, the universe is in ruins. With the help of remaining allies, the Avengers assemble once more in order to reverse Thanos' actions and restore balance to the universe.\",\n",
       "  '858 373 000',\n",
       "  '1 939 128 328',\n",
       "  '2 797 501 328'),\n",
       " ('Titanic',\n",
       "  '1997',\n",
       "  'A seventeen-year-old aristocrat falls in love with a kind but poor artist aboard the luxurious, ill-fated R.M.S. Titanic.',\n",
       "  '659 363 944',\n",
       "  '1 542 283 320',\n",
       "  '2 201 647 264'),\n",
       " ('Star Wars: Episode VII - The Force Awakens',\n",
       "  '2015',\n",
       "  'As a new threat to the galaxy rises, Rey, a desert scavenger, and Finn, an ex-stormtrooper, must join Han Solo and Chewbacca to search for the one hope of restoring peace.',\n",
       "  '936 662 225',\n",
       "  '1 132 859 475',\n",
       "  '2 069 521 700'),\n",
       " ('Avengers: Infinity War',\n",
       "  '2018',\n",
       "  'The Avengers and their allies must be willing to sacrifice all in an attempt to defeat the powerful Thanos before his blitz of devastation and ruin puts an end to the universe.',\n",
       "  '678 815 482',\n",
       "  '1 369 544 272',\n",
       "  '2 048 359 754')]"
      ]
     },
     "execution_count": 184,
     "metadata": {},
     "output_type": "execute_result"
    }
   ],
   "source": [
    "# The following step is to create the zip_list, where all categories are combined, merged within iterables:\n",
    "# It will facilitate the further iteration of multiple categories\n",
    "zip_list = list(zip(film_titles, film_years, description, domestic_box_office, international_box_office, worldwide_box_office))\n",
    "zip_list[:5] # The slice of the created zip_list"
   ]
  },
  {
   "cell_type": "code",
   "execution_count": 193,
   "id": "91c23e1a",
   "metadata": {},
   "outputs": [
    {
     "data": {
      "text/html": [
       "<div>\n",
       "<style scoped>\n",
       "    .dataframe tbody tr th:only-of-type {\n",
       "        vertical-align: middle;\n",
       "    }\n",
       "\n",
       "    .dataframe tbody tr th {\n",
       "        vertical-align: top;\n",
       "    }\n",
       "\n",
       "    .dataframe thead th {\n",
       "        text-align: right;\n",
       "    }\n",
       "</style>\n",
       "<table border=\"1\" class=\"dataframe\">\n",
       "  <thead>\n",
       "    <tr style=\"text-align: right;\">\n",
       "      <th></th>\n",
       "      <th>Title</th>\n",
       "      <th>Year</th>\n",
       "      <th>Plot</th>\n",
       "      <th>Domestic_box_office</th>\n",
       "      <th>International_box_office</th>\n",
       "      <th>Worldwide_box_office</th>\n",
       "    </tr>\n",
       "  </thead>\n",
       "  <tbody>\n",
       "    <tr>\n",
       "      <th>0</th>\n",
       "      <td>Avatar</td>\n",
       "      <td>2009</td>\n",
       "      <td>A paraplegic Marine dispatched to the moon Pandora on a unique mission becomes torn between following his orders and protecting the world he feels is his home.</td>\n",
       "      <td>760 507 625</td>\n",
       "      <td>2 086 889 714</td>\n",
       "      <td>2 847 397 339</td>\n",
       "    </tr>\n",
       "    <tr>\n",
       "      <th>1</th>\n",
       "      <td>Avengers: Endgame</td>\n",
       "      <td>2019</td>\n",
       "      <td>After the devastating events of Avengers: Infinity War, the universe is in ruins. With the help of remaining allies, the Avengers assemble once more in order to reverse Thanos' actions and restore balance to the universe.</td>\n",
       "      <td>858 373 000</td>\n",
       "      <td>1 939 128 328</td>\n",
       "      <td>2 797 501 328</td>\n",
       "    </tr>\n",
       "    <tr>\n",
       "      <th>2</th>\n",
       "      <td>Titanic</td>\n",
       "      <td>1997</td>\n",
       "      <td>A seventeen-year-old aristocrat falls in love with a kind but poor artist aboard the luxurious, ill-fated R.M.S. Titanic.</td>\n",
       "      <td>659 363 944</td>\n",
       "      <td>1 542 283 320</td>\n",
       "      <td>2 201 647 264</td>\n",
       "    </tr>\n",
       "    <tr>\n",
       "      <th>3</th>\n",
       "      <td>Star Wars: Episode VII - The Force Awakens</td>\n",
       "      <td>2015</td>\n",
       "      <td>As a new threat to the galaxy rises, Rey, a desert scavenger, and Finn, an ex-stormtrooper, must join Han Solo and Chewbacca to search for the one hope of restoring peace.</td>\n",
       "      <td>936 662 225</td>\n",
       "      <td>1 132 859 475</td>\n",
       "      <td>2 069 521 700</td>\n",
       "    </tr>\n",
       "    <tr>\n",
       "      <th>4</th>\n",
       "      <td>Avengers: Infinity War</td>\n",
       "      <td>2018</td>\n",
       "      <td>The Avengers and their allies must be willing to sacrifice all in an attempt to defeat the powerful Thanos before his blitz of devastation and ruin puts an end to the universe.</td>\n",
       "      <td>678 815 482</td>\n",
       "      <td>1 369 544 272</td>\n",
       "      <td>2 048 359 754</td>\n",
       "    </tr>\n",
       "  </tbody>\n",
       "</table>\n",
       "</div>"
      ],
      "text/plain": [
       "                                        Title  Year  \\\n",
       "0                                      Avatar  2009   \n",
       "1                           Avengers: Endgame  2019   \n",
       "2                                     Titanic  1997   \n",
       "3  Star Wars: Episode VII - The Force Awakens  2015   \n",
       "4                      Avengers: Infinity War  2018   \n",
       "\n",
       "                                                                                                                                                                                                                            Plot  \\\n",
       "0                                                                A paraplegic Marine dispatched to the moon Pandora on a unique mission becomes torn between following his orders and protecting the world he feels is his home.   \n",
       "1  After the devastating events of Avengers: Infinity War, the universe is in ruins. With the help of remaining allies, the Avengers assemble once more in order to reverse Thanos' actions and restore balance to the universe.   \n",
       "2                                                                                                      A seventeen-year-old aristocrat falls in love with a kind but poor artist aboard the luxurious, ill-fated R.M.S. Titanic.   \n",
       "3                                                    As a new threat to the galaxy rises, Rey, a desert scavenger, and Finn, an ex-stormtrooper, must join Han Solo and Chewbacca to search for the one hope of restoring peace.   \n",
       "4                                               The Avengers and their allies must be willing to sacrifice all in an attempt to defeat the powerful Thanos before his blitz of devastation and ruin puts an end to the universe.   \n",
       "\n",
       "  Domestic_box_office International_box_office Worldwide_box_office  \n",
       "0         760 507 625            2 086 889 714        2 847 397 339  \n",
       "1         858 373 000            1 939 128 328        2 797 501 328  \n",
       "2         659 363 944            1 542 283 320        2 201 647 264  \n",
       "3         936 662 225            1 132 859 475        2 069 521 700  \n",
       "4         678 815 482            1 369 544 272        2 048 359 754  "
      ]
     },
     "execution_count": 193,
     "metadata": {},
     "output_type": "execute_result"
    }
   ],
   "source": [
    "# The final operation is to create the dataframe with all the relevant information, pertaining to multiple categories\n",
    "with open(r\"Mojo_Dataset - Top 1000 Lifetime Film Grosses.csv\", mode=\"w\", encoding=\"utf-8\") as file:\n",
    "    for i, j, x, y, k, v in zip_list:\n",
    "        file.write(f\"{i};{j};{x};{y};{k};{v}\" + \"\\n\")\n",
    "# The title of dataframe columns is incorporated as well:\n",
    "columns = [\"Title\", \"Year\", \"Plot\", \"Domestic_box_office\", \"International_box_office\", \"Worldwide_box_office\"]\n",
    "\n",
    "df = pd.read_csv(\"Mojo_Dataset - Top 1000 Lifetime Film Grosses.csv\", delimiter = \";\", names = columns)\n",
    "# In view of the fact that the obtained dataframe is large enough - not all the content is fully displayed.\n",
    "# We need to implement some changes:\n",
    "pd.set_option(\"display.max_rows\", None) # All dataframe rows are displayed\n",
    "pd.set_option(\"display.max_colwidth\", None) # All the content within dataframe cells is displayed\n",
    "pd.set_option(\"display.max_columns\", None) # All dataframe columns are displayed\n",
    "df.head(5) # Below is the created dataframe (the first 5 rows are displayed):"
   ]
  }
 ],
 "metadata": {
  "kernelspec": {
   "display_name": "Python 3 (ipykernel)",
   "language": "python",
   "name": "python3"
  },
  "language_info": {
   "codemirror_mode": {
    "name": "ipython",
    "version": 3
   },
   "file_extension": ".py",
   "mimetype": "text/x-python",
   "name": "python",
   "nbconvert_exporter": "python",
   "pygments_lexer": "ipython3",
   "version": "3.9.7"
  }
 },
 "nbformat": 4,
 "nbformat_minor": 5
}
