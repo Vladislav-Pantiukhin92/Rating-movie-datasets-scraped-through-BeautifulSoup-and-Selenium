{
 "cells": [
  {
   "cell_type": "markdown",
   "id": "2ceb641f",
   "metadata": {},
   "source": [
    "### Web scraping code for IMDb 'Top 250 movies'"
   ]
  },
  {
   "cell_type": "code",
   "execution_count": 27,
   "id": "f07a1c17",
   "metadata": {},
   "outputs": [],
   "source": [
    "# The website URL: https://www.imdb.com/?ref_=nv_home\n",
    "\n",
    "from selenium import webdriver \n",
    "from selenium.webdriver.chrome.service import Service \n",
    "from selenium.webdriver.common.by import By \n",
    "from selenium.webdriver.common.keys import Keys \n",
    "from selenium.webdriver.support.ui import WebDriverWait \n",
    "from selenium.webdriver.support import expected_conditions as EC \n",
    "from selenium.common.exceptions import TimeoutException \n",
    "from selenium.common.exceptions import NoSuchElementException \n",
    "from selenium.common.exceptions import ElementClickInterceptedException \n",
    "import requests \n",
    "from bs4 import BeautifulSoup\n",
    "from time import sleep"
   ]
  },
  {
   "cell_type": "code",
   "execution_count": 28,
   "id": "bfa0d7d1",
   "metadata": {},
   "outputs": [
    {
     "data": {
      "text/plain": [
       "['https://www.imdb.com//title/tt0111161/?pf_rd_m=A2FGELUUNOQJNL&pf_rd_p=1a264172-ae11-42e4-8ef7-7fed1973bb8f&pf_rd_r=2F5DJT5X5XZCQCCRYD55&pf_rd_s=center-1&pf_rd_t=15506&pf_rd_i=top&ref_=chttp_tt_1',\n",
       " 'https://www.imdb.com//title/tt0068646/?pf_rd_m=A2FGELUUNOQJNL&pf_rd_p=1a264172-ae11-42e4-8ef7-7fed1973bb8f&pf_rd_r=2F5DJT5X5XZCQCCRYD55&pf_rd_s=center-1&pf_rd_t=15506&pf_rd_i=top&ref_=chttp_tt_2',\n",
       " 'https://www.imdb.com//title/tt0468569/?pf_rd_m=A2FGELUUNOQJNL&pf_rd_p=1a264172-ae11-42e4-8ef7-7fed1973bb8f&pf_rd_r=2F5DJT5X5XZCQCCRYD55&pf_rd_s=center-1&pf_rd_t=15506&pf_rd_i=top&ref_=chttp_tt_3',\n",
       " 'https://www.imdb.com//title/tt0071562/?pf_rd_m=A2FGELUUNOQJNL&pf_rd_p=1a264172-ae11-42e4-8ef7-7fed1973bb8f&pf_rd_r=2F5DJT5X5XZCQCCRYD55&pf_rd_s=center-1&pf_rd_t=15506&pf_rd_i=top&ref_=chttp_tt_4',\n",
       " 'https://www.imdb.com//title/tt0050083/?pf_rd_m=A2FGELUUNOQJNL&pf_rd_p=1a264172-ae11-42e4-8ef7-7fed1973bb8f&pf_rd_r=2F5DJT5X5XZCQCCRYD55&pf_rd_s=center-1&pf_rd_t=15506&pf_rd_i=top&ref_=chttp_tt_5',\n",
       " 'https://www.imdb.com//title/tt0108052/?pf_rd_m=A2FGELUUNOQJNL&pf_rd_p=1a264172-ae11-42e4-8ef7-7fed1973bb8f&pf_rd_r=2F5DJT5X5XZCQCCRYD55&pf_rd_s=center-1&pf_rd_t=15506&pf_rd_i=top&ref_=chttp_tt_6',\n",
       " 'https://www.imdb.com//title/tt0167260/?pf_rd_m=A2FGELUUNOQJNL&pf_rd_p=1a264172-ae11-42e4-8ef7-7fed1973bb8f&pf_rd_r=2F5DJT5X5XZCQCCRYD55&pf_rd_s=center-1&pf_rd_t=15506&pf_rd_i=top&ref_=chttp_tt_7',\n",
       " 'https://www.imdb.com//title/tt0110912/?pf_rd_m=A2FGELUUNOQJNL&pf_rd_p=1a264172-ae11-42e4-8ef7-7fed1973bb8f&pf_rd_r=2F5DJT5X5XZCQCCRYD55&pf_rd_s=center-1&pf_rd_t=15506&pf_rd_i=top&ref_=chttp_tt_8',\n",
       " 'https://www.imdb.com//title/tt0120737/?pf_rd_m=A2FGELUUNOQJNL&pf_rd_p=1a264172-ae11-42e4-8ef7-7fed1973bb8f&pf_rd_r=2F5DJT5X5XZCQCCRYD55&pf_rd_s=center-1&pf_rd_t=15506&pf_rd_i=top&ref_=chttp_tt_9',\n",
       " 'https://www.imdb.com//title/tt0060196/?pf_rd_m=A2FGELUUNOQJNL&pf_rd_p=1a264172-ae11-42e4-8ef7-7fed1973bb8f&pf_rd_r=2F5DJT5X5XZCQCCRYD55&pf_rd_s=center-1&pf_rd_t=15506&pf_rd_i=top&ref_=chttp_tt_10']"
      ]
     },
     "execution_count": 28,
     "metadata": {},
     "output_type": "execute_result"
    }
   ],
   "source": [
    "s = Service(\"C:/Users/Владислав/Desktop/ChromeDriver/chromedriver.exe\")\n",
    "chrome_options = webdriver.ChromeOptions()\n",
    "chrome_options.add_argument(\"--disable-notifications\")\n",
    "#chrome_options.add_argument(\"--headless\") # This is an option for those people, who want to scrape info with the \n",
    "# possibility of invisible browser\n",
    "browser = webdriver.Chrome(service = s, options = chrome_options)\n",
    "browser.maximize_window()\n",
    "url = \"https://www.imdb.com/?ref_=nv_home\"\n",
    "browser.get(url)\n",
    "browser.implicitly_wait(10)\n",
    "sleep(3)\n",
    "menu_button = browser.find_element(By.CSS_SELECTOR, \"#imdbHeader-navDrawerOpen--desktop\")\n",
    "menu_button.click() # We are going to click the menu button in order to have the view on all categories\n",
    "sleep(1) # We give 1 second for the categories to be loaded\n",
    "# After that, we are going to click the category \"Top 250 movies\"\n",
    "rating_button = browser.find_element(By.CSS_SELECTOR, \"#imdbHeader > div.ipc-page-content-container.ipc-page-content-container--center.navbar__inner > aside > div > div.drawer__panelContent > div > div:nth-child(1) > span > div > div > ul > a:nth-child(3) > span\")\n",
    "rating_button.click()\n",
    "sleep(5) # We give 5 seconds for the page to be loaded\n",
    "# Finally, we followed the link\n",
    "# So it is high time to scrape the entire rating \"Top 250 movies\" according to IMDb\n",
    "# We are going to scrape the following film details: Title, Rating, Year, Genre and Directors\n",
    "\n",
    "URL_links = [] # First of all, it is planned to store the URL_links of rating films within the list\n",
    "page = browser.page_source\n",
    "soup = BeautifulSoup(page)\n",
    "for link in soup.find_all(\"td\", class_ = \"titleColumn\"):\n",
    "    # These URL_links are not complete, this is why it's necessary to add the first URL_segment:\n",
    "    URL_links.append(\"https://www.imdb.com/\" + link.find(\"a\").get(\"href\"))\n",
    "    \n",
    "URL_links[:10]"
   ]
  },
  {
   "cell_type": "code",
   "execution_count": 29,
   "id": "cd3118a4",
   "metadata": {},
   "outputs": [
    {
     "data": {
      "text/plain": [
       "250"
      ]
     },
     "execution_count": 29,
     "metadata": {},
     "output_type": "execute_result"
    }
   ],
   "source": [
    "len(URL_links) # The length of the container is 250, so it can be noted that URL_links of all 250 films were \n",
    "# successfully scraped"
   ]
  },
  {
   "cell_type": "code",
   "execution_count": 30,
   "id": "473f3224",
   "metadata": {},
   "outputs": [
    {
     "name": "stderr",
     "output_type": "stream",
     "text": [
      "100%|████████████████████████████████████████████████████████████████████████████████| 250/250 [06:06<00:00,  1.47s/it]\n"
     ]
    }
   ],
   "source": [
    "from tqdm import tqdm, trange\n",
    "\n",
    "film_title = [] # The list will store 250 best film titles\n",
    "production_year = [] # The list will store years, when 250 best films were produced\n",
    "film_genre = [] # The list will store genres of 250 best films\n",
    "film_rating = [] # The list will store scores of 250 best films \n",
    "film_directors = [] # The list will store names of film directors\n",
    "\n",
    "# The next step is to iterate over URl-links and find all the relevant information for aforementioned categories\n",
    "# through requests library and BeautifulSoup\n",
    "\n",
    "for url in tqdm(URL_links):\n",
    "    page = requests.get(url)\n",
    "    soup = BeautifulSoup(page.content, \"html.parser\")\n",
    "    try:\n",
    "        title = soup.find_all(\"div\", class_ = \"sc-dae4a1bc-0 gwBsXc\")[0].get_text().strip()\n",
    "        title = title.replace(\"Original title: \", \"\")\n",
    "        film_title.append(title)\n",
    "    except IndexError:\n",
    "        i = soup.find_all(\"div\", class_ = \"sc-94726ce4-1 iNShGo\")[0].get_text().strip()\n",
    "        j = soup.find_all(\"div\", class_ = \"sc-94726ce4-3 eSKKHi\")[0].get_text().strip()\n",
    "        title = i.replace(j, \"\")\n",
    "        film_title.append(title)\n",
    "    year = soup.find_all(\"span\", class_ = \"sc-8c396aa2-2 itZqyK\")[0].get_text().strip()\n",
    "    production_year.append(year)\n",
    "    genre = soup.find_all(\"ul\", class_ = \"ipc-inline-list ipc-inline-list--show-dividers baseAlt\")[0].get_text().strip()\n",
    "    film_genre.append(genre)\n",
    "    score = soup.find_all(\"span\", class_ = \"sc-7ab21ed2-1 jGRxWM\")[0].get_text().strip()\n",
    "    film_rating.append(score)\n",
    "    director = soup.find_all(\"a\", class_ = \"ipc-metadata-list-item__list-content-item ipc-metadata-list-item__list-content-item--link\")[0].get_text().strip()\n",
    "    film_directors.append(director)"
   ]
  },
  {
   "cell_type": "code",
   "execution_count": 31,
   "id": "3ae9ca78",
   "metadata": {},
   "outputs": [
    {
     "name": "stdout",
     "output_type": "stream",
     "text": [
      "250\n"
     ]
    },
    {
     "data": {
      "text/plain": [
       "['The Shawshank Redemption',\n",
       " 'The Godfather',\n",
       " 'The Dark Knight',\n",
       " 'The Godfather: Part II',\n",
       " '12 Angry Men',\n",
       " \"Schindler's List\",\n",
       " 'The Lord of the Rings: The Return of the King',\n",
       " 'Pulp Fiction',\n",
       " 'The Lord of the Rings: The Fellowship of the Ring',\n",
       " 'Il buono, il brutto, il cattivo',\n",
       " 'Forrest Gump',\n",
       " 'Fight Club',\n",
       " 'Inception',\n",
       " 'The Lord of the Rings: The Two Towers',\n",
       " 'The Empire Strikes Back',\n",
       " 'The Matrix',\n",
       " 'Goodfellas',\n",
       " \"One Flew Over the Cuckoo's Nest\",\n",
       " 'Se7en',\n",
       " 'Shichinin no samurai']"
      ]
     },
     "execution_count": 31,
     "metadata": {},
     "output_type": "execute_result"
    }
   ],
   "source": [
    "print(len(film_title)) # Titles of 250 best films were successfully scraped\n",
    "film_title[:20]"
   ]
  },
  {
   "cell_type": "code",
   "execution_count": 32,
   "id": "0192dd4e",
   "metadata": {},
   "outputs": [
    {
     "name": "stdout",
     "output_type": "stream",
     "text": [
      "250\n"
     ]
    },
    {
     "data": {
      "text/plain": [
       "['1994',\n",
       " '1972',\n",
       " '2008',\n",
       " '1974',\n",
       " '1957',\n",
       " '1993',\n",
       " '2003',\n",
       " '1994',\n",
       " '2001',\n",
       " '1966',\n",
       " '1994',\n",
       " '1999',\n",
       " '2010',\n",
       " '2002',\n",
       " '1980',\n",
       " '1999',\n",
       " '1990',\n",
       " '1975',\n",
       " '1995',\n",
       " '1954']"
      ]
     },
     "execution_count": 32,
     "metadata": {},
     "output_type": "execute_result"
    }
   ],
   "source": [
    "print(len(production_year)) # Production years of 250 best films were successfully scraped\n",
    "production_year[:20]"
   ]
  },
  {
   "cell_type": "code",
   "execution_count": 33,
   "id": "56ff07d9",
   "metadata": {},
   "outputs": [
    {
     "name": "stdout",
     "output_type": "stream",
     "text": [
      "250\n"
     ]
    },
    {
     "data": {
      "text/plain": [
       "['Drama',\n",
       " 'Crime',\n",
       " 'Action',\n",
       " 'Crime',\n",
       " 'Crime',\n",
       " 'Biography',\n",
       " 'Action',\n",
       " 'Crime',\n",
       " 'Action',\n",
       " 'Adventure',\n",
       " 'Drama',\n",
       " 'Drama',\n",
       " 'Action',\n",
       " 'Action',\n",
       " 'Action',\n",
       " 'Action',\n",
       " 'Biography',\n",
       " 'Drama',\n",
       " 'Crime',\n",
       " 'Action']"
      ]
     },
     "execution_count": 33,
     "metadata": {},
     "output_type": "execute_result"
    }
   ],
   "source": [
    "print(len(film_genre)) # Genres of 250 best films were successfully scraped\n",
    "film_genre[:20]"
   ]
  },
  {
   "cell_type": "code",
   "execution_count": 34,
   "id": "e2a5ac46",
   "metadata": {},
   "outputs": [
    {
     "name": "stdout",
     "output_type": "stream",
     "text": [
      "250\n"
     ]
    },
    {
     "data": {
      "text/plain": [
       "['9.3',\n",
       " '9.2',\n",
       " '9.0',\n",
       " '9.0',\n",
       " '9.0',\n",
       " '9.0',\n",
       " '9.0',\n",
       " '8.9',\n",
       " '8.8',\n",
       " '8.8',\n",
       " '8.8',\n",
       " '8.8',\n",
       " '8.8',\n",
       " '8.8',\n",
       " '8.7',\n",
       " '8.7',\n",
       " '8.7',\n",
       " '8.7',\n",
       " '8.6',\n",
       " '8.6']"
      ]
     },
     "execution_count": 34,
     "metadata": {},
     "output_type": "execute_result"
    }
   ],
   "source": [
    "print(len(film_rating)) # Scores of 250 best films were successfully scraped\n",
    "film_rating[:20]"
   ]
  },
  {
   "cell_type": "code",
   "execution_count": 35,
   "id": "7d13ffe5",
   "metadata": {},
   "outputs": [
    {
     "name": "stdout",
     "output_type": "stream",
     "text": [
      "250\n"
     ]
    },
    {
     "data": {
      "text/plain": [
       "['Frank Darabont',\n",
       " 'Francis Ford Coppola',\n",
       " 'Christopher Nolan',\n",
       " 'Francis Ford Coppola',\n",
       " 'Sidney Lumet',\n",
       " 'Steven Spielberg',\n",
       " 'Peter Jackson',\n",
       " 'Quentin Tarantino',\n",
       " 'Peter Jackson',\n",
       " 'Sergio Leone',\n",
       " 'Robert Zemeckis',\n",
       " 'David Fincher',\n",
       " 'Christopher Nolan',\n",
       " 'Peter Jackson',\n",
       " 'Irvin Kershner',\n",
       " 'Lana Wachowski',\n",
       " 'Martin Scorsese',\n",
       " 'Milos Forman',\n",
       " 'David Fincher',\n",
       " 'Akira Kurosawa']"
      ]
     },
     "execution_count": 35,
     "metadata": {},
     "output_type": "execute_result"
    }
   ],
   "source": [
    "print(len(film_directors)) # Directors of 250 best films were successfully scraped\n",
    "film_directors[:20]"
   ]
  },
  {
   "cell_type": "code",
   "execution_count": 36,
   "id": "084835af",
   "metadata": {},
   "outputs": [
    {
     "data": {
      "text/plain": [
       "[('The Shawshank Redemption', '1994', 'Drama', '9.3', 'Frank Darabont'),\n",
       " ('The Godfather', '1972', 'Crime', '9.2', 'Francis Ford Coppola'),\n",
       " ('The Dark Knight', '2008', 'Action', '9.0', 'Christopher Nolan'),\n",
       " ('The Godfather: Part II', '1974', 'Crime', '9.0', 'Francis Ford Coppola'),\n",
       " ('12 Angry Men', '1957', 'Crime', '9.0', 'Sidney Lumet'),\n",
       " (\"Schindler's List\", '1993', 'Biography', '9.0', 'Steven Spielberg'),\n",
       " ('The Lord of the Rings: The Return of the King',\n",
       "  '2003',\n",
       "  'Action',\n",
       "  '9.0',\n",
       "  'Peter Jackson'),\n",
       " ('Pulp Fiction', '1994', 'Crime', '8.9', 'Quentin Tarantino'),\n",
       " ('The Lord of the Rings: The Fellowship of the Ring',\n",
       "  '2001',\n",
       "  'Action',\n",
       "  '8.8',\n",
       "  'Peter Jackson'),\n",
       " ('Il buono, il brutto, il cattivo',\n",
       "  '1966',\n",
       "  'Adventure',\n",
       "  '8.8',\n",
       "  'Sergio Leone'),\n",
       " ('Forrest Gump', '1994', 'Drama', '8.8', 'Robert Zemeckis'),\n",
       " ('Fight Club', '1999', 'Drama', '8.8', 'David Fincher'),\n",
       " ('Inception', '2010', 'Action', '8.8', 'Christopher Nolan'),\n",
       " ('The Lord of the Rings: The Two Towers',\n",
       "  '2002',\n",
       "  'Action',\n",
       "  '8.8',\n",
       "  'Peter Jackson'),\n",
       " ('The Empire Strikes Back', '1980', 'Action', '8.7', 'Irvin Kershner'),\n",
       " ('The Matrix', '1999', 'Action', '8.7', 'Lana Wachowski'),\n",
       " ('Goodfellas', '1990', 'Biography', '8.7', 'Martin Scorsese'),\n",
       " (\"One Flew Over the Cuckoo's Nest\", '1975', 'Drama', '8.7', 'Milos Forman'),\n",
       " ('Se7en', '1995', 'Crime', '8.6', 'David Fincher'),\n",
       " ('Shichinin no samurai', '1954', 'Action', '8.6', 'Akira Kurosawa')]"
      ]
     },
     "execution_count": 36,
     "metadata": {},
     "output_type": "execute_result"
    }
   ],
   "source": [
    "aggregation_list = list(zip(film_title, production_year, film_genre, film_rating, film_directors))\n",
    "aggregation_list[:20] # All results are presented as a combined list of categories"
   ]
  },
  {
   "cell_type": "code",
   "execution_count": 26,
   "id": "71a49110",
   "metadata": {},
   "outputs": [
    {
     "data": {
      "text/html": [
       "<div>\n",
       "<style scoped>\n",
       "    .dataframe tbody tr th:only-of-type {\n",
       "        vertical-align: middle;\n",
       "    }\n",
       "\n",
       "    .dataframe tbody tr th {\n",
       "        vertical-align: top;\n",
       "    }\n",
       "\n",
       "    .dataframe thead th {\n",
       "        text-align: right;\n",
       "    }\n",
       "</style>\n",
       "<table border=\"1\" class=\"dataframe\">\n",
       "  <thead>\n",
       "    <tr style=\"text-align: right;\">\n",
       "      <th></th>\n",
       "      <th>Title</th>\n",
       "      <th>Year</th>\n",
       "      <th>Genre</th>\n",
       "      <th>Rating</th>\n",
       "      <th>Director</th>\n",
       "    </tr>\n",
       "  </thead>\n",
       "  <tbody>\n",
       "    <tr>\n",
       "      <th>0</th>\n",
       "      <td>The Shawshank Redemption</td>\n",
       "      <td>1994</td>\n",
       "      <td>Drama</td>\n",
       "      <td>9.3</td>\n",
       "      <td>Frank Darabont</td>\n",
       "    </tr>\n",
       "    <tr>\n",
       "      <th>1</th>\n",
       "      <td>The Godfather</td>\n",
       "      <td>1972</td>\n",
       "      <td>Crime</td>\n",
       "      <td>9.2</td>\n",
       "      <td>Francis Ford Coppola</td>\n",
       "    </tr>\n",
       "    <tr>\n",
       "      <th>2</th>\n",
       "      <td>The Dark Knight</td>\n",
       "      <td>2008</td>\n",
       "      <td>Action</td>\n",
       "      <td>9.0</td>\n",
       "      <td>Christopher Nolan</td>\n",
       "    </tr>\n",
       "    <tr>\n",
       "      <th>3</th>\n",
       "      <td>The Godfather: Part II</td>\n",
       "      <td>1974</td>\n",
       "      <td>Crime</td>\n",
       "      <td>9.0</td>\n",
       "      <td>Francis Ford Coppola</td>\n",
       "    </tr>\n",
       "    <tr>\n",
       "      <th>4</th>\n",
       "      <td>12 Angry Men</td>\n",
       "      <td>1957</td>\n",
       "      <td>Crime</td>\n",
       "      <td>9.0</td>\n",
       "      <td>Sidney Lumet</td>\n",
       "    </tr>\n",
       "    <tr>\n",
       "      <th>5</th>\n",
       "      <td>Schindler's List</td>\n",
       "      <td>1993</td>\n",
       "      <td>Biography</td>\n",
       "      <td>9.0</td>\n",
       "      <td>Steven Spielberg</td>\n",
       "    </tr>\n",
       "    <tr>\n",
       "      <th>6</th>\n",
       "      <td>The Lord of the Rings: The Return of the King</td>\n",
       "      <td>2003</td>\n",
       "      <td>Action</td>\n",
       "      <td>9.0</td>\n",
       "      <td>Peter Jackson</td>\n",
       "    </tr>\n",
       "    <tr>\n",
       "      <th>7</th>\n",
       "      <td>Pulp Fiction</td>\n",
       "      <td>1994</td>\n",
       "      <td>Crime</td>\n",
       "      <td>8.9</td>\n",
       "      <td>Quentin Tarantino</td>\n",
       "    </tr>\n",
       "    <tr>\n",
       "      <th>8</th>\n",
       "      <td>The Lord of the Rings: The Fellowship of the Ring</td>\n",
       "      <td>2001</td>\n",
       "      <td>Action</td>\n",
       "      <td>8.8</td>\n",
       "      <td>Peter Jackson</td>\n",
       "    </tr>\n",
       "    <tr>\n",
       "      <th>9</th>\n",
       "      <td>Il buono, il brutto, il cattivo</td>\n",
       "      <td>1966</td>\n",
       "      <td>Adventure</td>\n",
       "      <td>8.8</td>\n",
       "      <td>Sergio Leone</td>\n",
       "    </tr>\n",
       "    <tr>\n",
       "      <th>10</th>\n",
       "      <td>Forrest Gump</td>\n",
       "      <td>1994</td>\n",
       "      <td>Drama</td>\n",
       "      <td>8.8</td>\n",
       "      <td>Robert Zemeckis</td>\n",
       "    </tr>\n",
       "    <tr>\n",
       "      <th>11</th>\n",
       "      <td>Fight Club</td>\n",
       "      <td>1999</td>\n",
       "      <td>Drama</td>\n",
       "      <td>8.8</td>\n",
       "      <td>David Fincher</td>\n",
       "    </tr>\n",
       "    <tr>\n",
       "      <th>12</th>\n",
       "      <td>Inception</td>\n",
       "      <td>2010</td>\n",
       "      <td>Action</td>\n",
       "      <td>8.8</td>\n",
       "      <td>Christopher Nolan</td>\n",
       "    </tr>\n",
       "    <tr>\n",
       "      <th>13</th>\n",
       "      <td>The Lord of the Rings: The Two Towers</td>\n",
       "      <td>2002</td>\n",
       "      <td>Action</td>\n",
       "      <td>8.8</td>\n",
       "      <td>Peter Jackson</td>\n",
       "    </tr>\n",
       "    <tr>\n",
       "      <th>14</th>\n",
       "      <td>The Empire Strikes Back</td>\n",
       "      <td>1980</td>\n",
       "      <td>Action</td>\n",
       "      <td>8.7</td>\n",
       "      <td>Irvin Kershner</td>\n",
       "    </tr>\n",
       "    <tr>\n",
       "      <th>15</th>\n",
       "      <td>The Matrix</td>\n",
       "      <td>1999</td>\n",
       "      <td>Action</td>\n",
       "      <td>8.7</td>\n",
       "      <td>Lana Wachowski</td>\n",
       "    </tr>\n",
       "    <tr>\n",
       "      <th>16</th>\n",
       "      <td>Goodfellas</td>\n",
       "      <td>1990</td>\n",
       "      <td>Biography</td>\n",
       "      <td>8.7</td>\n",
       "      <td>Martin Scorsese</td>\n",
       "    </tr>\n",
       "    <tr>\n",
       "      <th>17</th>\n",
       "      <td>One Flew Over the Cuckoo's Nest</td>\n",
       "      <td>1975</td>\n",
       "      <td>Drama</td>\n",
       "      <td>8.7</td>\n",
       "      <td>Milos Forman</td>\n",
       "    </tr>\n",
       "    <tr>\n",
       "      <th>18</th>\n",
       "      <td>Se7en</td>\n",
       "      <td>1995</td>\n",
       "      <td>Crime</td>\n",
       "      <td>8.6</td>\n",
       "      <td>David Fincher</td>\n",
       "    </tr>\n",
       "    <tr>\n",
       "      <th>19</th>\n",
       "      <td>Shichinin no samurai</td>\n",
       "      <td>1954</td>\n",
       "      <td>Action</td>\n",
       "      <td>8.6</td>\n",
       "      <td>Akira Kurosawa</td>\n",
       "    </tr>\n",
       "  </tbody>\n",
       "</table>\n",
       "</div>"
      ],
      "text/plain": [
       "                                                Title  Year      Genre  \\\n",
       "0                            The Shawshank Redemption  1994      Drama   \n",
       "1                                       The Godfather  1972      Crime   \n",
       "2                                     The Dark Knight  2008     Action   \n",
       "3                              The Godfather: Part II  1974      Crime   \n",
       "4                                        12 Angry Men  1957      Crime   \n",
       "5                                    Schindler's List  1993  Biography   \n",
       "6       The Lord of the Rings: The Return of the King  2003     Action   \n",
       "7                                        Pulp Fiction  1994      Crime   \n",
       "8   The Lord of the Rings: The Fellowship of the Ring  2001     Action   \n",
       "9                     Il buono, il brutto, il cattivo  1966  Adventure   \n",
       "10                                       Forrest Gump  1994      Drama   \n",
       "11                                         Fight Club  1999      Drama   \n",
       "12                                          Inception  2010     Action   \n",
       "13              The Lord of the Rings: The Two Towers  2002     Action   \n",
       "14                            The Empire Strikes Back  1980     Action   \n",
       "15                                         The Matrix  1999     Action   \n",
       "16                                         Goodfellas  1990  Biography   \n",
       "17                    One Flew Over the Cuckoo's Nest  1975      Drama   \n",
       "18                                              Se7en  1995      Crime   \n",
       "19                               Shichinin no samurai  1954     Action   \n",
       "\n",
       "    Rating              Director  \n",
       "0      9.3        Frank Darabont  \n",
       "1      9.2  Francis Ford Coppola  \n",
       "2      9.0     Christopher Nolan  \n",
       "3      9.0  Francis Ford Coppola  \n",
       "4      9.0          Sidney Lumet  \n",
       "5      9.0      Steven Spielberg  \n",
       "6      9.0         Peter Jackson  \n",
       "7      8.9     Quentin Tarantino  \n",
       "8      8.8         Peter Jackson  \n",
       "9      8.8          Sergio Leone  \n",
       "10     8.8       Robert Zemeckis  \n",
       "11     8.8         David Fincher  \n",
       "12     8.8     Christopher Nolan  \n",
       "13     8.8         Peter Jackson  \n",
       "14     8.7        Irvin Kershner  \n",
       "15     8.7        Lana Wachowski  \n",
       "16     8.7       Martin Scorsese  \n",
       "17     8.7          Milos Forman  \n",
       "18     8.6         David Fincher  \n",
       "19     8.6        Akira Kurosawa  "
      ]
     },
     "execution_count": 26,
     "metadata": {},
     "output_type": "execute_result"
    }
   ],
   "source": [
    "import pandas as pd \n",
    "\n",
    "# The next stage is to create the dataset itself through Pandas \n",
    "with open(r\"IMDb Dataset - Top 250 movies.csv\", mode = \"w\", encoding=\"utf-8\") as file:\n",
    "    for a, b, c, d, e in aggregation_list: # 'For loop' to iterate over all categories within the aggregation_list\n",
    "        file.write(a + \";\" + b + \";\" + c + \";\" + d + \";\" + e + \"\\n\")\n",
    "        \n",
    "columns = [\"Title\", \"Year\", \"Genre\", \"Rating\", \"Director\"]\n",
    "df = pd.read_csv(\"IMDb Dataset - Top 250 movies.csv\", delimiter = \";\", names = columns)\n",
    "df.head(20)"
   ]
  }
 ],
 "metadata": {
  "kernelspec": {
   "display_name": "Python 3 (ipykernel)",
   "language": "python",
   "name": "python3"
  },
  "language_info": {
   "codemirror_mode": {
    "name": "ipython",
    "version": 3
   },
   "file_extension": ".py",
   "mimetype": "text/x-python",
   "name": "python",
   "nbconvert_exporter": "python",
   "pygments_lexer": "ipython3",
   "version": "3.9.7"
  }
 },
 "nbformat": 4,
 "nbformat_minor": 5
}
